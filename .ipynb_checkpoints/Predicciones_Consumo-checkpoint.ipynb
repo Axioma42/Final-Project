{
 "cells": [
  {
   "cell_type": "code",
   "execution_count": 1,
   "metadata": {},
   "outputs": [],
   "source": [
    "import pandas as pd\n",
    "import numpy as np\n",
    "from sqlalchemy.orm import session\n",
    "from sqlalchemy import create_engine\n",
    "\n",
    "from datetime import datetime, timedelta\n",
    "import pytz # new import\n",
    "\n",
    "import gc\n",
    "\n",
    "from sklearn.ensemble import GradientBoostingRegressor\n",
    "from sklearn.neural_network import MLPRegressor\n",
    "from sklearn.neighbors import KNeighborsRegressor\n",
    "\n",
    "from sklearn.preprocessing import MinMaxScaler\n",
    "\n",
    "from sklearn.model_selection import train_test_split\n",
    "from sklearn.model_selection import GridSearchCV\n",
    "\n",
    "import warnings\n",
    "warnings.filterwarnings('ignore')\n",
    "\n",
    "import matplotlib.pyplot as plt"
   ]
  },
  {
   "cell_type": "markdown",
   "metadata": {},
   "source": [
    "# Data preparation"
   ]
  },
  {
   "cell_type": "code",
   "execution_count": null,
   "metadata": {},
   "outputs": [],
   "source": [
    "data.head()"
   ]
  },
  {
   "cell_type": "code",
   "execution_count": null,
   "metadata": {},
   "outputs": [],
   "source": [
    "data = data[(data[\"device_name\"] == \"Interruptor Principal\") ^ (data[\"device_name\"] == \"Lavaloza\") ^\n",
    "            (data[\"device_name\"] == \"Tablero B\") ^ (data[\"device_name\"] == \"Tablero E\") ^\n",
    "            (data[\"device_name\"] == \"Tablero C\")]"
   ]
  },
  {
   "cell_type": "code",
   "execution_count": null,
   "metadata": {},
   "outputs": [],
   "source": [
    "data = data[data[\"measurement_time(UTC)\"] >= pd.to_datetime('2018-04-01').tz_localize('Mexico/General') ]\n",
    "data.head()"
   ]
  },
  {
   "cell_type": "code",
   "execution_count": null,
   "metadata": {},
   "outputs": [],
   "source": [
    "#Convert to Mexico time\n",
    "data[\"measurement_time(UTC)\"] = data[\"measurement_time(UTC)\"].apply(lambda x: x.astimezone(\"Mexico/General\"))\n",
    "data.head()"
   ]
  },
  {
   "cell_type": "code",
   "execution_count": null,
   "metadata": {},
   "outputs": [],
   "source": [
    "# Rename measurement_time columns\n",
    "data.rename(columns ={\"measurement_time(UTC)\":\"measurement_time(MX)\"}, inplace =True)\n",
    "data.head()"
   ]
  },
  {
   "cell_type": "code",
   "execution_count": null,
   "metadata": {},
   "outputs": [],
   "source": [
    "#Get other time data\n",
    "data[\"hour\"] = data[\"measurement_time(MX)\"].apply(lambda x: x.time().hour)\n",
    "data[\"minute\"] = data[\"measurement_time(MX)\"].apply(lambda x: x.time().minute)\n",
    "data[\"time\"] = data[\"hour\"] + data[\"minute\"]/60\n",
    "data[\"weekday\"] = data[\"measurement_time(MX)\"].apply(lambda x: x.weekday())\n",
    "data[\"month\"] = data[\"measurement_time(MX)\"].apply(lambda x: x.month)\n",
    "data.head()"
   ]
  },
  {
   "cell_type": "code",
   "execution_count": null,
   "metadata": {},
   "outputs": [],
   "source": [
    "# Separate Main from devices\n",
    "main_df = data[data[\"device_name\"] == \"Interruptor Principal\"]\n",
    "devices_df = data[data[\"device_name\"] != \"Interruptor Principal\"]\n",
    "del data\n",
    "gc.collect()"
   ]
  },
  {
   "cell_type": "code",
   "execution_count": null,
   "metadata": {},
   "outputs": [],
   "source": [
    "main_df.head()"
   ]
  },
  {
   "cell_type": "code",
   "execution_count": null,
   "metadata": {},
   "outputs": [],
   "source": [
    "devices_df.head()"
   ]
  },
  {
   "cell_type": "code",
   "execution_count": null,
   "metadata": {},
   "outputs": [],
   "source": [
    "devices_df.drop(columns = [\"power(W)\", \"energy(Wh)\", \"power_factor\", \"voltage(V)\", \"hour\",\"time\", \"weekday\", \"month\"], inplace =True)"
   ]
  },
  {
   "cell_type": "code",
   "execution_count": null,
   "metadata": {},
   "outputs": [],
   "source": [
    "devices_df.head()"
   ]
  },
  {
   "cell_type": "code",
   "execution_count": null,
   "metadata": {},
   "outputs": [],
   "source": [
    "devices_df = pd.pivot_table(devices_df, index= \"measurement_time(MX)\", columns = \"device_name\", values = \"current(A)\",\n",
    "                            aggfunc=\"mean\")\\\n",
    "                            .reset_index().sort_values(by = \"measurement_time(MX)\", ascending =True).fillna(0)"
   ]
  },
  {
   "cell_type": "code",
   "execution_count": null,
   "metadata": {},
   "outputs": [],
   "source": [
    "devices_df.head()"
   ]
  },
  {
   "cell_type": "code",
   "execution_count": null,
   "metadata": {},
   "outputs": [],
   "source": [
    "main_df.head()"
   ]
  },
  {
   "cell_type": "markdown",
   "metadata": {},
   "source": [
    "# Building the model"
   ]
  },
  {
   "cell_type": "code",
   "execution_count": null,
   "metadata": {},
   "outputs": [],
   "source": [
    "devices_to_train = [\"Lavaloza\", \"Tablero B\", \"Tablero C\", \"Tablero E\"]\n",
    "features = list(main_df.columns[2:])"
   ]
  },
  {
   "cell_type": "code",
   "execution_count": null,
   "metadata": {},
   "outputs": [],
   "source": [
    "features"
   ]
  },
  {
   "cell_type": "code",
   "execution_count": null,
   "metadata": {},
   "outputs": [],
   "source": [
    "model_df = pd.merge(left = main_df, right = devices_df, on=\"measurement_time(MX)\")\n",
    "del devices_df, main_df\n",
    "gc.collect()"
   ]
  },
  {
   "cell_type": "code",
   "execution_count": null,
   "metadata": {},
   "outputs": [],
   "source": [
    "X = model_df[features]\n",
    "y = model_df[devices_to_train]\n",
    "\n",
    "X_train, X_test, y_train, y_test = train_test_split(X, y, random_state=42)\n",
    "\n",
    "scaler = MinMaxScaler().fit(X_train)\n",
    "\n",
    "X_train_scaled = scaler.transform(X_train)\n",
    "X_test_scaled = scaler.transform(X_test)"
   ]
  },
  {
   "cell_type": "code",
   "execution_count": null,
   "metadata": {},
   "outputs": [],
   "source": [
    "y_train[\"Lavaloza\"].values.reshape(-1,1)"
   ]
  },
  {
   "cell_type": "markdown",
   "metadata": {},
   "source": [
    "## Gradient Boosting Regressor"
   ]
  },
  {
   "cell_type": "code",
   "execution_count": null,
   "metadata": {},
   "outputs": [],
   "source": [
    "param_grid = {'n_estimators': [30,40,50, 60],\n",
    "              'max_depth': [4,5,6],\n",
    "              'learning_rate':[0.01, 0.1 , 0.3]}\n",
    "grid = GridSearchCV(GradientBoostingRegressor(), param_grid, verbose=2, n_jobs = -1)\n",
    "\n",
    "# Fit the model using the grid search estimator. \n",
    "# This will take the SVC model and try each combination of parameters\n",
    "grid.fit(X_train_scaled, y_train[\"Lavaloza\"].values.reshape(-1,1))"
   ]
  },
  {
   "cell_type": "code",
   "execution_count": null,
   "metadata": {},
   "outputs": [],
   "source": [
    "print('The best parameters to use are: ', grid.best_params_)"
   ]
  },
  {
   "cell_type": "code",
   "execution_count": null,
   "metadata": {},
   "outputs": [],
   "source": [
    "model_list_gbr= []\n",
    "for column in devices_to_train:\n",
    "    y = y_train[column].values.reshape(-1,1)\n",
    "    gbr = GradientBoostingRegressor(max_depth = 5, n_estimators = 100, learning_rate= 0.1).fit(X_train_scaled, y)\n",
    "    model_list_gbr.append(gbr)\n",
    "    print(\"Model for {}\".format(column))\n",
    "    print(gbr.score(X_train_scaled, y_train[column].values.reshape(-1,1)))\n",
    "    print(gbr.score(X_test_scaled, y_test[column].values.reshape(-1,1)))"
   ]
  },
  {
   "cell_type": "markdown",
   "metadata": {},
   "source": [
    "## Multilayer Perceptrons"
   ]
  },
  {
   "cell_type": "code",
   "execution_count": null,
   "metadata": {},
   "outputs": [],
   "source": [
    "param_grid = {'activation': [\"relu\", \"tanh\"],\n",
    "              'hidden_layer_sizes': [(100,), [100,100],[100,100,100]]\n",
    "             }\n",
    "grid = GridSearchCV(MLPRegressor(), param_grid, verbose=2, n_jobs = -1)\n",
    "\n",
    "# Fit the model using the grid search estimator. \n",
    "# This will take the SVC model and try each combination of parameters\n",
    "grid.fit(X_train_scaled, y_train[\"Lavaloza\"].values.reshape(-1,1))"
   ]
  },
  {
   "cell_type": "code",
   "execution_count": null,
   "metadata": {},
   "outputs": [],
   "source": [
    "print('The best parameters to use are: ', grid.best_params_)"
   ]
  },
  {
   "cell_type": "code",
   "execution_count": null,
   "metadata": {
    "scrolled": true
   },
   "outputs": [],
   "source": [
    "model_list_mlp= []\n",
    "for column in y_train.columns:\n",
    "    y = y_train[column].values.reshape(-1,1)\n",
    "    mlp = MLPRegressor(activation = \"tanh\", hidden_layer_sizes = [100,100,100]).fit(X_train_scaled, y)\n",
    "    model_list_mlp.append(mlp)\n",
    "    print(\"Model for {}\".format(column))\n",
    "    print(mlp.score(X_train_scaled, y_train[column].values.reshape(-1,1)))\n",
    "    print(mlp.score(X_test_scaled, y_test[column].values.reshape(-1,1)))\n",
    "    print(\"\\n\")"
   ]
  },
  {
   "cell_type": "markdown",
   "metadata": {},
   "source": [
    "# Create CSV"
   ]
  },
  {
   "cell_type": "code",
   "execution_count": null,
   "metadata": {},
   "outputs": [],
   "source": [
    "features_predict = scaler.transform(model_df[features])\n",
    "\n",
    "for device, model_mlp, model_gbr in zip(devices_to_train,model_list_mlp, model_list_gbr):\n",
    "    model_df[device + \"_pred_mlp\"] = model_mlp.predict(features_predict)\n",
    "    model_df[device + \"_pred_gbr\"] = model_gbr.predict(features_predict)\n",
    "model_df"
   ]
  },
  {
   "cell_type": "code",
   "execution_count": null,
   "metadata": {},
   "outputs": [],
   "source": [
    "model_df.to_csv(\"predicciones.csv\")"
   ]
  },
  {
   "cell_type": "code",
   "execution_count": null,
   "metadata": {},
   "outputs": [],
   "source": [
    "model_list_mlp"
   ]
  },
  {
   "cell_type": "code",
   "execution_count": null,
   "metadata": {},
   "outputs": [],
   "source": [
    "features"
   ]
  },
  {
   "cell_type": "code",
   "execution_count": null,
   "metadata": {},
   "outputs": [],
   "source": []
  }
 ],
 "metadata": {
  "kernelspec": {
   "display_name": "Python 3",
   "language": "python",
   "name": "python3"
  },
  "language_info": {
   "codemirror_mode": {
    "name": "ipython",
    "version": 3
   },
   "file_extension": ".py",
   "mimetype": "text/x-python",
   "name": "python",
   "nbconvert_exporter": "python",
   "pygments_lexer": "ipython3",
   "version": "3.7.4"
  }
 },
 "nbformat": 4,
 "nbformat_minor": 2
}
